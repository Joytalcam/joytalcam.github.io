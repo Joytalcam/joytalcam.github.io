{
 "cells": [
  {
   "cell_type": "code",
   "execution_count": 2,
   "id": "817b976d-7836-4830-947d-b076660a0143",
   "metadata": {},
   "outputs": [],
   "source": [
    "import requests\n",
    "from bs4 import BeautifulSoup\n",
    "import json\n",
    "from datetime import datetime\n",
    "import pandas as pd\n",
    "import os\n",
    "from IPython.display import display  # Importa la función display para mejorar visualizacion\n",
    "\n",
    "# Ruta al archivo Excel (ajusta la ruta según tu sistema)\n",
    "ruta_archivo = \"C:/Users/ASUS/OneDrive/Proyectos POWER BI/Dofus Unity/ConsolidadoInicial_BolsaKamas_Dofus.xlsx\" # Windows\n",
    "\n",
    "# Leer datos existentes\n",
    "df_existente = pd.read_excel(ruta_archivo, engine=\"openpyxl\")\n",
    "#print(f\"Número de datos existentes: {len(df_existente)}\")  #len: Cuenta las filas\n",
    "\n",
    "# URL y headers\n",
    "url = \"https://www.dofus.com/es/compra-kamas/cotizacion-kama-ogrinas\"\n",
    "headers = {\n",
    "    \"User-Agent\": \"Mozilla/5.0 (Windows NT 10.0; Win64; x64) AppleWebKit/537.36 (KHTML, like Gecko) Chrome/91.0.4472.124 Safari/537.36\"\n",
    "}\n",
    "\n",
    "# Obtener datos de la web\n",
    "response = requests.get(url, headers=headers)\n",
    "soup = BeautifulSoup(response.text, 'html.parser')\n",
    "\n",
    "# Extraer datos de RATES del JavaScript\n",
    "for script in soup.find_all('script'):\n",
    "    if script.string and 'RATES' in script.string:\n",
    "        rates_line = script.string.strip().split('\\n')[0]\n",
    "        rates_json = rates_line.split('RATES = ')[1].rstrip(';')\n",
    "        rates_data = json.loads(rates_json)\n",
    "        break\n",
    "\n",
    "# Crear DataFrame con nuevos datos\n",
    "df_nuevos = pd.DataFrame([\n",
    "    {'Fecha': datetime.fromtimestamp(int(ts)/1000), 'Tasa': rate}\n",
    "    for ts, rate in rates_data.items()\n",
    "    if ts != 'avg' and rate is not None\n",
    "])\n",
    "df_nuevos = df_nuevos.sort_values('Fecha')\n",
    "\n",
    "# Filtrar df_B para excluir IDs presentes en df_A\n",
    "df_nuevos_filtrado = df_nuevos[~df_nuevos[\"Fecha\"].isin(df_existente[\"Fecha\"])]\n",
    "#print(f\"Número de datos nuevos: {len(df_nuevos_filtrado)}\")\n",
    "\n",
    "# Combinar datos y eliminar duplicados\n",
    "df_combined = pd.concat([df_existente, df_nuevos_filtrado])\n",
    "df_combined = df_combined.drop_duplicates(subset=['Fecha'])\n",
    "df_combined = df_combined.sort_values('Fecha')\n",
    "\n",
    "# Guardar actualización\n",
    "df_combined.to_excel(ruta_archivo, engine=\"openpyxl\", index=False)\n",
    "#display(df_combined.head(10))"
   ]
  },
  {
   "cell_type": "code",
   "execution_count": null,
   "id": "1fe198be-4ed6-47c9-baa2-db86e460bc0f",
   "metadata": {},
   "outputs": [],
   "source": []
  },
  {
   "cell_type": "code",
   "execution_count": null,
   "id": "71022c5f-a48c-40fb-876f-5d129a931243",
   "metadata": {},
   "outputs": [],
   "source": []
  }
 ],
 "metadata": {
  "kernelspec": {
   "display_name": "Python 3 (ipykernel)",
   "language": "python",
   "name": "python3"
  },
  "language_info": {
   "codemirror_mode": {
    "name": "ipython",
    "version": 3
   },
   "file_extension": ".py",
   "mimetype": "text/x-python",
   "name": "python",
   "nbconvert_exporter": "python",
   "pygments_lexer": "ipython3",
   "version": "3.12.7"
  }
 },
 "nbformat": 4,
 "nbformat_minor": 5
}
